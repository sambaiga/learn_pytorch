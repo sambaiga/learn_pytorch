{
 "cells": [
  {
   "cell_type": "code",
   "execution_count": 1,
   "metadata": {},
   "outputs": [],
   "source": [
    "import warnings\n",
    "warnings.filterwarnings('ignore')\n",
    "import numpy as np\n",
    "from scipy.stats import norm\n",
    "from ploting import *\n",
    "import seaborn as sns\n",
    "%matplotlib inline\n",
    "\n",
    "import torch\n",
    "from torch.autograd import Variable\n",
    "from sklearn.model_selection import train_test_split\n",
    "from sklearn.metrics import mean_squared_error as MSE\n",
    "torch.manual_seed(123)\n",
    "latexify(fig_width=10)"
   ]
  },
  {
   "cell_type": "markdown",
   "metadata": {},
   "source": [
    "## Create dataset"
   ]
  },
  {
   "cell_type": "code",
   "execution_count": 2,
   "metadata": {},
   "outputs": [],
   "source": [
    "def generate_data(samples=500000):\n",
    "    data = []\n",
    "    labels = []\n",
    "    for i in range(samples):\n",
    "        category = (np.random.choice([0, 1]), np.random.choice([0, 1]))\n",
    "        if category == (1, 0):\n",
    "            data.append([np.random.uniform(0.1, 1), 0])\n",
    "            labels.append([1, 0, 1])\n",
    "        if category == (0, 1):\n",
    "            data.append([0, np.random.uniform(0.1, 1)])\n",
    "            labels.append([0, 1, 0])\n",
    "        if category == (0, 0):\n",
    "            data.append([np.random.uniform(0.1, 1), np.random.uniform(0.1, 1)])\n",
    "            labels.append([0, 0, 1])\n",
    "    return train_test_split(np.vstack((data)), np.vstack((labels)), random_state=42)      "
   ]
  },
  {
   "cell_type": "code",
   "execution_count": 3,
   "metadata": {},
   "outputs": [],
   "source": [
    "X_train, X_test, y_train, y_test = generate_data()"
   ]
  },
  {
   "cell_type": "markdown",
   "metadata": {},
   "source": [
    "## Define model"
   ]
  },
  {
   "cell_type": "code",
   "execution_count": 4,
   "metadata": {},
   "outputs": [],
   "source": [
    "class Classifier(torch.nn.Module):\n",
    "\n",
    "    def __init__(self, nb_label):\n",
    "        \"\"\"\n",
    "        In the constructor we instantiate two nn.Linear module\n",
    "        \"\"\"\n",
    "        super(Classifier, self).__init__()\n",
    "        self.main = torch.nn.Sequential(torch.nn.Linear(2, 64),\n",
    "                                  torch.nn.ReLU(),\n",
    "                                  torch.nn.Linear(64, nlabel),)\n",
    "\n",
    "    def forward(self, x):\n",
    "        \"\"\"\n",
    "        In the forward function we accept a Variable of input data and we must return\n",
    "        a Variable of output data. We can use Modules defined in the constructor as\n",
    "        well as arbitrary operators on Variables.\n",
    "        \"\"\"\n",
    "        \n",
    "        return self.main(x)\n",
    "        "
   ]
  },
  {
   "cell_type": "code",
   "execution_count": 5,
   "metadata": {},
   "outputs": [],
   "source": [
    "def model_train(x_data, y_data, model, lrate):\n",
    "    \n",
    "    x_data = torch.from_numpy(x_data).float()\n",
    "    y_data = torch.from_numpy(y_data).float()\n",
    "    \n",
    "    x_data = Variable(x_data)\n",
    "    y_data = Variable(y_data)\n",
    "    \n",
    "    if torch.cuda.is_available():\n",
    "        model = model.cuda()\n",
    "        x_data = x_data.cuda()\n",
    "        y_data = y_data.cuda()\n",
    "        \n",
    "    criterion = torch.nn.MultiLabelSoftMarginLoss()\n",
    "    optimizer = torch.optim.SGD(model.parameters(), lr=lrate)\n",
    "    \n",
    "    \n",
    "    Epoch = []\n",
    "    Loss  = []\n",
    " \n",
    "    for epoch in range(50000):\n",
    "        y_pred = model(x_data)\n",
    "\n",
    "        loss = criterion(y_pred, y_data)\n",
    "        Epoch.append(epoch)\n",
    "        Loss.append(loss.data[0])\n",
    "    \n",
    "        # Zero gradients, perform a backward pass, and update the weights.\n",
    "        optimizer.zero_grad()\n",
    "        loss.backward()\n",
    "        optimizer.step()\n",
    "        \n",
    "    \n",
    "    return Epoch, Loss "
   ]
  },
  {
   "cell_type": "code",
   "execution_count": 6,
   "metadata": {},
   "outputs": [
    {
     "name": "stdout",
     "output_type": "stream",
     "text": [
      "Classifier(\n",
      "  (main): Sequential(\n",
      "    (0): Linear(in_features=2, out_features=64)\n",
      "    (1): ReLU()\n",
      "    (2): Linear(in_features=64, out_features=3)\n",
      "  )\n",
      ")\n"
     ]
    }
   ],
   "source": [
    "nlabel = y_train.shape[1]\n",
    "classifier = Classifier(nlabel)\n",
    "print(classifier)"
   ]
  },
  {
   "cell_type": "code",
   "execution_count": null,
   "metadata": {},
   "outputs": [],
   "source": [
    "epoch, loss = model_train(X_train, y_train, classifier, 0.01)"
   ]
  },
  {
   "cell_type": "code",
   "execution_count": null,
   "metadata": {},
   "outputs": [],
   "source": [
    "plt.plot(epoch, loss, label=\"$lrate=0.1$\")\n",
    "plt.xlabel(\"Epoch\")\n",
    "plt.ylabel(\"Loss\")\n",
    "plt.title(\"Loss vs iterations\")\n",
    "plt.legend();"
   ]
  },
  {
   "cell_type": "code",
   "execution_count": null,
   "metadata": {},
   "outputs": [],
   "source": []
  }
 ],
 "metadata": {
  "kernelspec": {
   "display_name": "Python 3",
   "language": "python",
   "name": "python3"
  },
  "language_info": {
   "codemirror_mode": {
    "name": "ipython",
    "version": 3
   },
   "file_extension": ".py",
   "mimetype": "text/x-python",
   "name": "python",
   "nbconvert_exporter": "python",
   "pygments_lexer": "ipython3",
   "version": "3.6.3"
  }
 },
 "nbformat": 4,
 "nbformat_minor": 2
}
