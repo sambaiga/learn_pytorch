{
 "cells": [
  {
   "cell_type": "code",
   "execution_count": 16,
   "metadata": {},
   "outputs": [],
   "source": [
    "import warnings\n",
    "warnings.filterwarnings('ignore')\n",
    "import torch\n",
    "from torch.autograd import Variable\n",
    "import torch.nn.functional as F\n",
    "import numpy as np\n",
    "import pandas as pd\n",
    "import seaborn as sns\n",
    "from sklearn.model_selection import train_test_split\n",
    "import time\n",
    "from sklearn.metrics import accuracy_score\n",
    "from sklearn.metrics import f1_score\n",
    "from ploting import *\n",
    "%matplotlib inline"
   ]
  },
  {
   "cell_type": "markdown",
   "metadata": {},
   "source": [
    "## Load data"
   ]
  },
  {
   "cell_type": "code",
   "execution_count": 2,
   "metadata": {},
   "outputs": [],
   "source": [
    "data= pd.read_csv(\"data/admission.txt\",  header=None)"
   ]
  },
  {
   "cell_type": "code",
   "execution_count": 3,
   "metadata": {},
   "outputs": [],
   "source": [
    "X = data.iloc[:,0:2].as_matrix()\n",
    "y = data.iloc[:,-1].as_matrix().reshape(-1,1)"
   ]
  },
  {
   "cell_type": "code",
   "execution_count": 4,
   "metadata": {},
   "outputs": [],
   "source": [
    "X_train, X_test, y_train, y_test = train_test_split(X, y, test_size=0.10, random_state=42)"
   ]
  },
  {
   "cell_type": "markdown",
   "metadata": {},
   "source": [
    "## Define model"
   ]
  },
  {
   "cell_type": "code",
   "execution_count": 5,
   "metadata": {},
   "outputs": [],
   "source": [
    "class Model(torch.nn.Module):\n",
    "\n",
    "    def __init__(self, nb_input, nb_output):\n",
    "        \"\"\"\n",
    "        In the constructor we instantiate two nn.Linear module\n",
    "        \"\"\"\n",
    "        super(Model, self).__init__()\n",
    "        self.nb_input = nb_input\n",
    "        self.nb_output =nb_output\n",
    "        self.linear = torch.nn.Linear(self.nb_input, self.nb_output)  # One in and one out\n",
    "\n",
    "    def forward(self, x):\n",
    "        \"\"\"\n",
    "        In the forward function we accept a Variable of input data and we must return\n",
    "        a Variable of output data. We can use Modules defined in the constructor as\n",
    "        well as arbitrary operators on Variables.\n",
    "        \"\"\"\n",
    "        y_pred = F.sigmoid(self.linear(x))\n",
    "        return y_pred"
   ]
  },
  {
   "cell_type": "markdown",
   "metadata": {},
   "source": [
    "## Define prediction function"
   ]
  },
  {
   "cell_type": "code",
   "execution_count": 6,
   "metadata": {},
   "outputs": [],
   "source": [
    "def predict(x_data, model):\n",
    "    x_data = torch.from_numpy(x_data).float()\n",
    "    x_data = Variable(x_data)\n",
    "    \n",
    "    if torch.cuda.is_available():\n",
    "        model = model.cuda()\n",
    "        x_data = x_data.cuda()\n",
    "        \n",
    "    y_pred = model(x_data) \n",
    "    \n",
    "    if torch.cuda.is_available():\n",
    "        y_pred=y_pred.cpu()\n",
    "        \n",
    "         \n",
    "    return  y_pred.data.numpy()"
   ]
  },
  {
   "cell_type": "markdown",
   "metadata": {},
   "source": [
    "## Define training function"
   ]
  },
  {
   "cell_type": "code",
   "execution_count": 7,
   "metadata": {},
   "outputs": [],
   "source": [
    "def model_train(x_data, y_data, model, lrate):\n",
    "    \n",
    "    x_data = torch.from_numpy(x_data).float()\n",
    "    y_data = torch.from_numpy(y_data).float()\n",
    "    \n",
    "    x_data = Variable(x_data, requires_grad=False)\n",
    "    y_data = Variable(y_data, requires_grad=False)\n",
    "    \n",
    "    if torch.cuda.is_available():\n",
    "        model = model.cuda()\n",
    "        x_data = x_data.cuda()\n",
    "        y_data = y_data.cuda()\n",
    "        \n",
    "    criterion = torch.nn.BCELoss(size_average=True)\n",
    "    optimizer = torch.optim.SGD(model.parameters(), lr=lrate)\n",
    "    \n",
    "    \n",
    "    Epoch = []\n",
    "    Loss  = []\n",
    "    start_time = time.time()\n",
    "    \n",
    "    for epoch in range(500):\n",
    "        y_pred = model(x_data)\n",
    "\n",
    "    \n",
    "        loss = criterion(y_pred, y_data)\n",
    "        Epoch.append(epoch)\n",
    "        Loss.append(loss.data[0])\n",
    "    \n",
    "        # Zero gradients, perform a backward pass, and update the weights.\n",
    "        optimizer.zero_grad()\n",
    "        loss.backward()\n",
    "        optimizer.step()\n",
    "        \n",
    "    \n",
    "    return Epoch, Loss "
   ]
  },
  {
   "cell_type": "markdown",
   "metadata": {},
   "source": [
    "## Build Model"
   ]
  },
  {
   "cell_type": "code",
   "execution_count": 8,
   "metadata": {},
   "outputs": [],
   "source": [
    "nb_input = X_train.shape[1]\n",
    "nb_output = y_train.shape[1]\n",
    "model = Model(nb_input, nb_output)"
   ]
  },
  {
   "cell_type": "code",
   "execution_count": 9,
   "metadata": {},
   "outputs": [],
   "source": [
    "epoch, loss_1 = model_train(X_train, y_train, model, 0.1)\n",
    "epoch, loss_2 = model_train(X_train, y_train, model, 0.01)\n",
    "epoch, loss_3 = model_train(X_train, y_train, model, 0.001)"
   ]
  },
  {
   "cell_type": "code",
   "execution_count": 10,
   "metadata": {},
   "outputs": [
    {
     "data": {
      "text/plain": [
       "<matplotlib.legend.Legend at 0x7f4e0c6c7080>"
      ]
     },
     "execution_count": 10,
     "metadata": {},
     "output_type": "execute_result"
    },
    {
     "data": {
      "image/png": "[encoded data removed]",
      "text/plain": [
       "<matplotlib.figure.Figure at 0x7f4e1379c240>"
      ]
     },
     "metadata": {},
     "output_type": "display_data"
    }
   ],
   "source": [
    "plt.plot(epoch, loss_1, label=\"$lrate=0.1$\")\n",
    "plt.plot(epoch, loss_2, label=\"$lrate=0.01$\")\n",
    "plt.plot(epoch, loss_3, label=\"$lrate=0.001$\")\n",
    "plt.xlabel(\"Epoch\")\n",
    "plt.ylabel(\"Loss\")\n",
    "plt.legend()"
   ]
  },
  {
   "cell_type": "code",
   "execution_count": 18,
   "metadata": {},
   "outputs": [
    {
     "name": "stdout",
     "output_type": "stream",
     "text": [
      "Model accuracy is 80.0 %\n",
      "Model F-Measure is 0.0 %\n"
     ]
    }
   ],
   "source": [
    "pred = predict(X_test, model) \n",
    "acc = accuracy_score(y_test, np.around(pred))\n",
    "fscore = f1_score(y_test, np.around(pred))\n",
    "print(\"Model accuracy is {} %\".format(acc*100))\n",
    "print(\"Model F-Measure is {} %\".format(fscore))"
   ]
  },
  {
   "cell_type": "markdown",
   "metadata": {},
   "source": [
    "## Case 2: Normalizing data"
   ]
  },
  {
   "cell_type": "code",
   "execution_count": 19,
   "metadata": {},
   "outputs": [],
   "source": [
    "def normalize(data):\n",
    "    row_sums = data.sum(axis=1)\n",
    "    new_matrix = data / row_sums[:, np.newaxis]\n",
    "    return new_matrix"
   ]
  },
  {
   "cell_type": "code",
   "execution_count": 20,
   "metadata": {},
   "outputs": [],
   "source": [
    "X_normal = normalize(X)\n",
    "X_train, X_test, y_train, y_test = train_test_split(X_normal, y, test_size=0.10, random_state=42)"
   ]
  },
  {
   "cell_type": "code",
   "execution_count": 21,
   "metadata": {},
   "outputs": [],
   "source": [
    "nb_input = X_train.shape[1]\n",
    "nb_output = y_train.shape[1]\n",
    "model = Model(nb_input, nb_output)"
   ]
  },
  {
   "cell_type": "code",
   "execution_count": 24,
   "metadata": {},
   "outputs": [],
   "source": [
    "epoch, loss_1 = model_train(X_train, y_train, model, 0.1)\n",
    "epoch, loss_2 = model_train(X_train, y_train, model, 0.01)\n",
    "epoch, loss_3 = model_train(X_train, y_train, model, 0.001)"
   ]
  },
  {
   "cell_type": "code",
   "execution_count": 25,
   "metadata": {},
   "outputs": [
    {
     "data": {
      "text/plain": [
       "<matplotlib.legend.Legend at 0x7f4e0c4e29e8>"
      ]
     },
     "execution_count": 25,
     "metadata": {},
     "output_type": "execute_result"
    },
    {
     "data": {
      "image/png": "[encoded data removed]",
      "text/plain": [
       "<matplotlib.figure.Figure at 0x7f4e0c4a6470>"
      ]
     },
     "metadata": {},
     "output_type": "display_data"
    }
   ],
   "source": [
    "plt.plot(epoch, loss_1, label=\"$lrate=0.1$\")\n",
    "plt.plot(epoch, loss_2, label=\"$lrate=0.01$\")\n",
    "plt.plot(epoch, loss_3, label=\"$lrate=0.001$\")\n",
    "plt.xlabel(\"Epoch\")\n",
    "plt.ylabel(\"Loss\")\n",
    "plt.legend()"
   ]
  },
  {
   "cell_type": "code",
   "execution_count": 29,
   "metadata": {},
   "outputs": [
    {
     "name": "stdout",
     "output_type": "stream",
     "text": [
      "Model accuracy is 20.0 %\n",
      "Model F-Measure is 0.33 \n"
     ]
    }
   ],
   "source": [
    "pred = predict(X_test, model) \n",
    "acc = accuracy_score(y_test, np.around(pred))\n",
    "fscore = f1_score(y_test, np.around(pred))\n",
    "print(\"Model accuracy is {} %\".format(acc*100))\n",
    "print(\"Model F-Measure is {} \".format(round(fscore,2)))"
   ]
  },
  {
   "cell_type": "code",
   "execution_count": null,
   "metadata": {},
   "outputs": [],
   "source": []
  }
 ],
 "metadata": {
  "kernelspec": {
   "display_name": "Python 3",
   "language": "python",
   "name": "python3"
  },
  "language_info": {
   "codemirror_mode": {
    "name": "ipython",
    "version": 3
   },
   "file_extension": ".py",
   "mimetype": "text/x-python",
   "name": "python",
   "nbconvert_exporter": "python",
   "pygments_lexer": "ipython3",
   "version": "3.6.3"
  }
 },
 "nbformat": 4,
 "nbformat_minor": 2
}
